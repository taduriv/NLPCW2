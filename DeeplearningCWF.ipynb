{
  "nbformat": 4,
  "nbformat_minor": 0,
  "metadata": {
    "colab": {
      "provenance": [],
      "authorship_tag": "ABX9TyOBrpPUKhI7CAfIqG0IBX6D",
      "include_colab_link": true
    },
    "kernelspec": {
      "name": "python3",
      "display_name": "Python 3"
    },
    "language_info": {
      "name": "python"
    }
  },
  "cells": [
    {
      "cell_type": "markdown",
      "metadata": {
        "id": "view-in-github",
        "colab_type": "text"
      },
      "source": [
        "<a href=\"https://colab.research.google.com/github/taduriv/NLPCW2/blob/main/DeeplearningCWF.ipynb\" target=\"_parent\"><img src=\"https://colab.research.google.com/assets/colab-badge.svg\" alt=\"Open In Colab\"/></a>"
      ]
    },
    {
      "cell_type": "code",
      "execution_count": 1,
      "metadata": {
        "id": "zJrtWBHFYbGX"
      },
      "outputs": [],
      "source": [
        "import pandas as pd"
      ]
    },
    {
      "cell_type": "code",
      "source": [
        "\n",
        "data1=pd.DataFrame(pd.read_table(r\"/content/attending_event.txt\"))\n",
        "data2=pd.DataFrame(pd.read_table(r\"/content/communication_issue.txt\"))\n",
        "data3=pd.DataFrame(pd.read_table(r\"/content/going_to_places.txt\"))\n",
        "data4=pd.DataFrame(pd.read_table(r\"/content/legal_issue.txt\"))\n",
        "data5=pd.DataFrame(pd.read_table(r\"/content/money_issue.txt\"))\n",
        "data6=pd.DataFrame(pd.read_table(r\"/content/outdoor_activity.txt\",encoding='latin1'))\n",
        "data7=pd.DataFrame(pd.read_table(r\"/content/personal_care.txt\"))\n",
        "data8=pd.DataFrame(pd.read_table(r\"/content/physical_pain.txt\"))\n"
      ],
      "metadata": {
        "id": "h24AI0ZIYltU"
      },
      "execution_count": 97,
      "outputs": []
    },
    {
      "cell_type": "code",
      "source": [
        "data2['ID']=' '\n",
        "first_column = data2.pop('ID')\n",
        "data2.insert(0, 'ID', first_column)"
      ],
      "metadata": {
        "id": "UNPlXinuYmLo"
      },
      "execution_count": 98,
      "outputs": []
    },
    {
      "cell_type": "code",
      "source": [
        "data1.columns=['ID', 'text', 'polarity', 'Event']\n",
        "data2.columns=['ID', 'text', 'polarity', 'Event']\n",
        "data3.columns=['ID', 'text', 'polarity', 'Event']\n",
        "data4.columns=['ID', 'text', 'polarity', 'Event']\n",
        "data5.columns=['ID', 'text', 'polarity', 'Event']\n",
        "data6.columns=['ID', 'text', 'polarity', 'Event']\n",
        "data7.columns=['ID', 'text', 'polarity', 'Event']\n",
        "data8.columns=['ID', 'text', 'polarity', 'Event']"
      ],
      "metadata": {
        "id": "rbWBGh9vYxdQ"
      },
      "execution_count": 99,
      "outputs": []
    },
    {
      "cell_type": "code",
      "source": [
        "Data=pd.concat([data1, data2, data3, data4, data5, data6, data7, data8], ignore_index=True)\n"
      ],
      "metadata": {
        "id": "SLJ41HtGY1-W"
      },
      "execution_count": 100,
      "outputs": []
    },
    {
      "cell_type": "code",
      "source": [
        "Data['polarity'] = Data['polarity'].str.strip()  # Remove leading/trailing whitespace\n",
        "Data['polarity'] = Data['polarity'].replace({\n",
        "    'POSIITVE': 'POSITIVE',\n",
        "    'POSTITIVE': 'POSITIVE'\n",
        "})\n"
      ],
      "metadata": {
        "id": "zKeCDMB-Yyvr"
      },
      "execution_count": 106,
      "outputs": []
    },
    {
      "cell_type": "code",
      "source": [
        "\n",
        "#removing the spaces in the text and replacing the few texts\n",
        "Data['Event'] = Data['Event'].str.strip()\n",
        "Data['Event'] = Data['Event'].replace({\n",
        "    'OOUTDOOR_ACTIVITY': 'OUTDOOR_ACTIVITY',\n",
        "    'PERSONA_CARE': 'PERSONAL_CARE'\n",
        "})"
      ],
      "metadata": {
        "id": "oL-H23HxY0KU"
      },
      "execution_count": 107,
      "outputs": []
    },
    {
      "cell_type": "code",
      "source": [
        "Data['polarity'].unique()"
      ],
      "metadata": {
        "colab": {
          "base_uri": "https://localhost:8080/"
        },
        "id": "cYVm9Yx1Wp8e",
        "outputId": "27e9bee9-90d5-4b71-b864-794e3a9f451f"
      },
      "execution_count": 111,
      "outputs": [
        {
          "output_type": "execute_result",
          "data": {
            "text/plain": [
              "array(['NEGATIVE', 'NEUTRAL', 'POSITIVE'], dtype=object)"
            ]
          },
          "metadata": {},
          "execution_count": 111
        }
      ]
    },
    {
      "cell_type": "code",
      "source": [
        "Data['Event'].unique()"
      ],
      "metadata": {
        "colab": {
          "base_uri": "https://localhost:8080/"
        },
        "id": "EjWTQGqlWzYi",
        "outputId": "00a9542f-df81-4d38-c1e1-f5a8fe4ad8d4"
      },
      "execution_count": 112,
      "outputs": [
        {
          "output_type": "execute_result",
          "data": {
            "text/plain": [
              "array(['ATTENDING_EVENT', 'COMMUNICATION_ISSUE', 'GOING_TO_PLACES',\n",
              "       'LEGAL_ISSUE', 'MONEY_ISSUE', 'OUTDOOR_ACTIVITY', 'PERSONAL_CARE',\n",
              "       nan, '(FEAR_OF)_PHYSICAL_PAIN'], dtype=object)"
            ]
          },
          "metadata": {},
          "execution_count": 112
        }
      ]
    },
    {
      "cell_type": "code",
      "source": [
        "Data"
      ],
      "metadata": {
        "colab": {
          "base_uri": "https://localhost:8080/",
          "height": 424
        },
        "id": "r5cgwVd_Y51q",
        "outputId": "bb60dae2-7937-4c16-f276-b7eb60e7b357"
      },
      "execution_count": 141,
      "outputs": [
        {
          "output_type": "execute_result",
          "data": {
            "text/plain": [
              "       ID                                               text  polarity  \\\n",
              "0       2  Choosing to undergo open heart surgery when I ...  NEGATIVE   \n",
              "1       3  Either we're going to have a big barbecue or w...   NEUTRAL   \n",
              "2       4  For health reasons, I need to undergo medical ...  NEGATIVE   \n",
              "3       5  I am going to be at the concert here, and in o...   NEUTRAL   \n",
              "4       6  I am really excited about the concert, but I c...  POSITIVE   \n",
              "...   ...                                                ...       ...   \n",
              "1267  156  Today I fell down again on it and it was getti...  NEGATIVE   \n",
              "1268  157         What can I say, Larry? I had an accident.   NEGATIVE   \n",
              "1269  158  When I realized that it was an earthquake, it ...  NEGATIVE   \n",
              "1270  159  When I was assaulted, I was 13 and wearing a s...  NEGATIVE   \n",
              "1271  160  While I was passing through a Guptanagar  a co...  NEGATIVE   \n",
              "\n",
              "                        Event  \n",
              "0             ATTENDING_EVENT  \n",
              "1             ATTENDING_EVENT  \n",
              "2             ATTENDING_EVENT  \n",
              "3             ATTENDING_EVENT  \n",
              "4             ATTENDING_EVENT  \n",
              "...                       ...  \n",
              "1267  (FEAR_OF)_PHYSICAL_PAIN  \n",
              "1268  (FEAR_OF)_PHYSICAL_PAIN  \n",
              "1269  (FEAR_OF)_PHYSICAL_PAIN  \n",
              "1270  (FEAR_OF)_PHYSICAL_PAIN  \n",
              "1271  (FEAR_OF)_PHYSICAL_PAIN  \n",
              "\n",
              "[1272 rows x 4 columns]"
            ],
            "text/html": [
              "\n",
              "  <div id=\"df-e43e515e-39fb-4dde-ae06-cd972e8f1be7\" class=\"colab-df-container\">\n",
              "    <div>\n",
              "<style scoped>\n",
              "    .dataframe tbody tr th:only-of-type {\n",
              "        vertical-align: middle;\n",
              "    }\n",
              "\n",
              "    .dataframe tbody tr th {\n",
              "        vertical-align: top;\n",
              "    }\n",
              "\n",
              "    .dataframe thead th {\n",
              "        text-align: right;\n",
              "    }\n",
              "</style>\n",
              "<table border=\"1\" class=\"dataframe\">\n",
              "  <thead>\n",
              "    <tr style=\"text-align: right;\">\n",
              "      <th></th>\n",
              "      <th>ID</th>\n",
              "      <th>text</th>\n",
              "      <th>polarity</th>\n",
              "      <th>Event</th>\n",
              "    </tr>\n",
              "  </thead>\n",
              "  <tbody>\n",
              "    <tr>\n",
              "      <th>0</th>\n",
              "      <td>2</td>\n",
              "      <td>Choosing to undergo open heart surgery when I ...</td>\n",
              "      <td>NEGATIVE</td>\n",
              "      <td>ATTENDING_EVENT</td>\n",
              "    </tr>\n",
              "    <tr>\n",
              "      <th>1</th>\n",
              "      <td>3</td>\n",
              "      <td>Either we're going to have a big barbecue or w...</td>\n",
              "      <td>NEUTRAL</td>\n",
              "      <td>ATTENDING_EVENT</td>\n",
              "    </tr>\n",
              "    <tr>\n",
              "      <th>2</th>\n",
              "      <td>4</td>\n",
              "      <td>For health reasons, I need to undergo medical ...</td>\n",
              "      <td>NEGATIVE</td>\n",
              "      <td>ATTENDING_EVENT</td>\n",
              "    </tr>\n",
              "    <tr>\n",
              "      <th>3</th>\n",
              "      <td>5</td>\n",
              "      <td>I am going to be at the concert here, and in o...</td>\n",
              "      <td>NEUTRAL</td>\n",
              "      <td>ATTENDING_EVENT</td>\n",
              "    </tr>\n",
              "    <tr>\n",
              "      <th>4</th>\n",
              "      <td>6</td>\n",
              "      <td>I am really excited about the concert, but I c...</td>\n",
              "      <td>POSITIVE</td>\n",
              "      <td>ATTENDING_EVENT</td>\n",
              "    </tr>\n",
              "    <tr>\n",
              "      <th>...</th>\n",
              "      <td>...</td>\n",
              "      <td>...</td>\n",
              "      <td>...</td>\n",
              "      <td>...</td>\n",
              "    </tr>\n",
              "    <tr>\n",
              "      <th>1267</th>\n",
              "      <td>156</td>\n",
              "      <td>Today I fell down again on it and it was getti...</td>\n",
              "      <td>NEGATIVE</td>\n",
              "      <td>(FEAR_OF)_PHYSICAL_PAIN</td>\n",
              "    </tr>\n",
              "    <tr>\n",
              "      <th>1268</th>\n",
              "      <td>157</td>\n",
              "      <td>What can I say, Larry? I had an accident.</td>\n",
              "      <td>NEGATIVE</td>\n",
              "      <td>(FEAR_OF)_PHYSICAL_PAIN</td>\n",
              "    </tr>\n",
              "    <tr>\n",
              "      <th>1269</th>\n",
              "      <td>158</td>\n",
              "      <td>When I realized that it was an earthquake, it ...</td>\n",
              "      <td>NEGATIVE</td>\n",
              "      <td>(FEAR_OF)_PHYSICAL_PAIN</td>\n",
              "    </tr>\n",
              "    <tr>\n",
              "      <th>1270</th>\n",
              "      <td>159</td>\n",
              "      <td>When I was assaulted, I was 13 and wearing a s...</td>\n",
              "      <td>NEGATIVE</td>\n",
              "      <td>(FEAR_OF)_PHYSICAL_PAIN</td>\n",
              "    </tr>\n",
              "    <tr>\n",
              "      <th>1271</th>\n",
              "      <td>160</td>\n",
              "      <td>While I was passing through a Guptanagar  a co...</td>\n",
              "      <td>NEGATIVE</td>\n",
              "      <td>(FEAR_OF)_PHYSICAL_PAIN</td>\n",
              "    </tr>\n",
              "  </tbody>\n",
              "</table>\n",
              "<p>1272 rows × 4 columns</p>\n",
              "</div>\n",
              "    <div class=\"colab-df-buttons\">\n",
              "\n",
              "  <div class=\"colab-df-container\">\n",
              "    <button class=\"colab-df-convert\" onclick=\"convertToInteractive('df-e43e515e-39fb-4dde-ae06-cd972e8f1be7')\"\n",
              "            title=\"Convert this dataframe to an interactive table.\"\n",
              "            style=\"display:none;\">\n",
              "\n",
              "  <svg xmlns=\"http://www.w3.org/2000/svg\" height=\"24px\" viewBox=\"0 -960 960 960\">\n",
              "    <path d=\"M120-120v-720h720v720H120Zm60-500h600v-160H180v160Zm220 220h160v-160H400v160Zm0 220h160v-160H400v160ZM180-400h160v-160H180v160Zm440 0h160v-160H620v160ZM180-180h160v-160H180v160Zm440 0h160v-160H620v160Z\"/>\n",
              "  </svg>\n",
              "    </button>\n",
              "\n",
              "  <style>\n",
              "    .colab-df-container {\n",
              "      display:flex;\n",
              "      gap: 12px;\n",
              "    }\n",
              "\n",
              "    .colab-df-convert {\n",
              "      background-color: #E8F0FE;\n",
              "      border: none;\n",
              "      border-radius: 50%;\n",
              "      cursor: pointer;\n",
              "      display: none;\n",
              "      fill: #1967D2;\n",
              "      height: 32px;\n",
              "      padding: 0 0 0 0;\n",
              "      width: 32px;\n",
              "    }\n",
              "\n",
              "    .colab-df-convert:hover {\n",
              "      background-color: #E2EBFA;\n",
              "      box-shadow: 0px 1px 2px rgba(60, 64, 67, 0.3), 0px 1px 3px 1px rgba(60, 64, 67, 0.15);\n",
              "      fill: #174EA6;\n",
              "    }\n",
              "\n",
              "    .colab-df-buttons div {\n",
              "      margin-bottom: 4px;\n",
              "    }\n",
              "\n",
              "    [theme=dark] .colab-df-convert {\n",
              "      background-color: #3B4455;\n",
              "      fill: #D2E3FC;\n",
              "    }\n",
              "\n",
              "    [theme=dark] .colab-df-convert:hover {\n",
              "      background-color: #434B5C;\n",
              "      box-shadow: 0px 1px 3px 1px rgba(0, 0, 0, 0.15);\n",
              "      filter: drop-shadow(0px 1px 2px rgba(0, 0, 0, 0.3));\n",
              "      fill: #FFFFFF;\n",
              "    }\n",
              "  </style>\n",
              "\n",
              "    <script>\n",
              "      const buttonEl =\n",
              "        document.querySelector('#df-e43e515e-39fb-4dde-ae06-cd972e8f1be7 button.colab-df-convert');\n",
              "      buttonEl.style.display =\n",
              "        google.colab.kernel.accessAllowed ? 'block' : 'none';\n",
              "\n",
              "      async function convertToInteractive(key) {\n",
              "        const element = document.querySelector('#df-e43e515e-39fb-4dde-ae06-cd972e8f1be7');\n",
              "        const dataTable =\n",
              "          await google.colab.kernel.invokeFunction('convertToInteractive',\n",
              "                                                    [key], {});\n",
              "        if (!dataTable) return;\n",
              "\n",
              "        const docLinkHtml = 'Like what you see? Visit the ' +\n",
              "          '<a target=\"_blank\" href=https://colab.research.google.com/notebooks/data_table.ipynb>data table notebook</a>'\n",
              "          + ' to learn more about interactive tables.';\n",
              "        element.innerHTML = '';\n",
              "        dataTable['output_type'] = 'display_data';\n",
              "        await google.colab.output.renderOutput(dataTable, element);\n",
              "        const docLink = document.createElement('div');\n",
              "        docLink.innerHTML = docLinkHtml;\n",
              "        element.appendChild(docLink);\n",
              "      }\n",
              "    </script>\n",
              "  </div>\n",
              "\n",
              "\n",
              "<div id=\"df-a260b877-6c57-4c26-9f8a-4485c45ad561\">\n",
              "  <button class=\"colab-df-quickchart\" onclick=\"quickchart('df-a260b877-6c57-4c26-9f8a-4485c45ad561')\"\n",
              "            title=\"Suggest charts\"\n",
              "            style=\"display:none;\">\n",
              "\n",
              "<svg xmlns=\"http://www.w3.org/2000/svg\" height=\"24px\"viewBox=\"0 0 24 24\"\n",
              "     width=\"24px\">\n",
              "    <g>\n",
              "        <path d=\"M19 3H5c-1.1 0-2 .9-2 2v14c0 1.1.9 2 2 2h14c1.1 0 2-.9 2-2V5c0-1.1-.9-2-2-2zM9 17H7v-7h2v7zm4 0h-2V7h2v10zm4 0h-2v-4h2v4z\"/>\n",
              "    </g>\n",
              "</svg>\n",
              "  </button>\n",
              "\n",
              "<style>\n",
              "  .colab-df-quickchart {\n",
              "      --bg-color: #E8F0FE;\n",
              "      --fill-color: #1967D2;\n",
              "      --hover-bg-color: #E2EBFA;\n",
              "      --hover-fill-color: #174EA6;\n",
              "      --disabled-fill-color: #AAA;\n",
              "      --disabled-bg-color: #DDD;\n",
              "  }\n",
              "\n",
              "  [theme=dark] .colab-df-quickchart {\n",
              "      --bg-color: #3B4455;\n",
              "      --fill-color: #D2E3FC;\n",
              "      --hover-bg-color: #434B5C;\n",
              "      --hover-fill-color: #FFFFFF;\n",
              "      --disabled-bg-color: #3B4455;\n",
              "      --disabled-fill-color: #666;\n",
              "  }\n",
              "\n",
              "  .colab-df-quickchart {\n",
              "    background-color: var(--bg-color);\n",
              "    border: none;\n",
              "    border-radius: 50%;\n",
              "    cursor: pointer;\n",
              "    display: none;\n",
              "    fill: var(--fill-color);\n",
              "    height: 32px;\n",
              "    padding: 0;\n",
              "    width: 32px;\n",
              "  }\n",
              "\n",
              "  .colab-df-quickchart:hover {\n",
              "    background-color: var(--hover-bg-color);\n",
              "    box-shadow: 0 1px 2px rgba(60, 64, 67, 0.3), 0 1px 3px 1px rgba(60, 64, 67, 0.15);\n",
              "    fill: var(--button-hover-fill-color);\n",
              "  }\n",
              "\n",
              "  .colab-df-quickchart-complete:disabled,\n",
              "  .colab-df-quickchart-complete:disabled:hover {\n",
              "    background-color: var(--disabled-bg-color);\n",
              "    fill: var(--disabled-fill-color);\n",
              "    box-shadow: none;\n",
              "  }\n",
              "\n",
              "  .colab-df-spinner {\n",
              "    border: 2px solid var(--fill-color);\n",
              "    border-color: transparent;\n",
              "    border-bottom-color: var(--fill-color);\n",
              "    animation:\n",
              "      spin 1s steps(1) infinite;\n",
              "  }\n",
              "\n",
              "  @keyframes spin {\n",
              "    0% {\n",
              "      border-color: transparent;\n",
              "      border-bottom-color: var(--fill-color);\n",
              "      border-left-color: var(--fill-color);\n",
              "    }\n",
              "    20% {\n",
              "      border-color: transparent;\n",
              "      border-left-color: var(--fill-color);\n",
              "      border-top-color: var(--fill-color);\n",
              "    }\n",
              "    30% {\n",
              "      border-color: transparent;\n",
              "      border-left-color: var(--fill-color);\n",
              "      border-top-color: var(--fill-color);\n",
              "      border-right-color: var(--fill-color);\n",
              "    }\n",
              "    40% {\n",
              "      border-color: transparent;\n",
              "      border-right-color: var(--fill-color);\n",
              "      border-top-color: var(--fill-color);\n",
              "    }\n",
              "    60% {\n",
              "      border-color: transparent;\n",
              "      border-right-color: var(--fill-color);\n",
              "    }\n",
              "    80% {\n",
              "      border-color: transparent;\n",
              "      border-right-color: var(--fill-color);\n",
              "      border-bottom-color: var(--fill-color);\n",
              "    }\n",
              "    90% {\n",
              "      border-color: transparent;\n",
              "      border-bottom-color: var(--fill-color);\n",
              "    }\n",
              "  }\n",
              "</style>\n",
              "\n",
              "  <script>\n",
              "    async function quickchart(key) {\n",
              "      const quickchartButtonEl =\n",
              "        document.querySelector('#' + key + ' button');\n",
              "      quickchartButtonEl.disabled = true;  // To prevent multiple clicks.\n",
              "      quickchartButtonEl.classList.add('colab-df-spinner');\n",
              "      try {\n",
              "        const charts = await google.colab.kernel.invokeFunction(\n",
              "            'suggestCharts', [key], {});\n",
              "      } catch (error) {\n",
              "        console.error('Error during call to suggestCharts:', error);\n",
              "      }\n",
              "      quickchartButtonEl.classList.remove('colab-df-spinner');\n",
              "      quickchartButtonEl.classList.add('colab-df-quickchart-complete');\n",
              "    }\n",
              "    (() => {\n",
              "      let quickchartButtonEl =\n",
              "        document.querySelector('#df-a260b877-6c57-4c26-9f8a-4485c45ad561 button');\n",
              "      quickchartButtonEl.style.display =\n",
              "        google.colab.kernel.accessAllowed ? 'block' : 'none';\n",
              "    })();\n",
              "  </script>\n",
              "</div>\n",
              "\n",
              "  <div id=\"id_04af2475-ecdf-4931-b9e2-19f4b613a94e\">\n",
              "    <style>\n",
              "      .colab-df-generate {\n",
              "        background-color: #E8F0FE;\n",
              "        border: none;\n",
              "        border-radius: 50%;\n",
              "        cursor: pointer;\n",
              "        display: none;\n",
              "        fill: #1967D2;\n",
              "        height: 32px;\n",
              "        padding: 0 0 0 0;\n",
              "        width: 32px;\n",
              "      }\n",
              "\n",
              "      .colab-df-generate:hover {\n",
              "        background-color: #E2EBFA;\n",
              "        box-shadow: 0px 1px 2px rgba(60, 64, 67, 0.3), 0px 1px 3px 1px rgba(60, 64, 67, 0.15);\n",
              "        fill: #174EA6;\n",
              "      }\n",
              "\n",
              "      [theme=dark] .colab-df-generate {\n",
              "        background-color: #3B4455;\n",
              "        fill: #D2E3FC;\n",
              "      }\n",
              "\n",
              "      [theme=dark] .colab-df-generate:hover {\n",
              "        background-color: #434B5C;\n",
              "        box-shadow: 0px 1px 3px 1px rgba(0, 0, 0, 0.15);\n",
              "        filter: drop-shadow(0px 1px 2px rgba(0, 0, 0, 0.3));\n",
              "        fill: #FFFFFF;\n",
              "      }\n",
              "    </style>\n",
              "    <button class=\"colab-df-generate\" onclick=\"generateWithVariable('Data')\"\n",
              "            title=\"Generate code using this dataframe.\"\n",
              "            style=\"display:none;\">\n",
              "\n",
              "  <svg xmlns=\"http://www.w3.org/2000/svg\" height=\"24px\"viewBox=\"0 0 24 24\"\n",
              "       width=\"24px\">\n",
              "    <path d=\"M7,19H8.4L18.45,9,17,7.55,7,17.6ZM5,21V16.75L18.45,3.32a2,2,0,0,1,2.83,0l1.4,1.43a1.91,1.91,0,0,1,.58,1.4,1.91,1.91,0,0,1-.58,1.4L9.25,21ZM18.45,9,17,7.55Zm-12,3A5.31,5.31,0,0,0,4.9,8.1,5.31,5.31,0,0,0,1,6.5,5.31,5.31,0,0,0,4.9,4.9,5.31,5.31,0,0,0,6.5,1,5.31,5.31,0,0,0,8.1,4.9,5.31,5.31,0,0,0,12,6.5,5.46,5.46,0,0,0,6.5,12Z\"/>\n",
              "  </svg>\n",
              "    </button>\n",
              "    <script>\n",
              "      (() => {\n",
              "      const buttonEl =\n",
              "        document.querySelector('#id_04af2475-ecdf-4931-b9e2-19f4b613a94e button.colab-df-generate');\n",
              "      buttonEl.style.display =\n",
              "        google.colab.kernel.accessAllowed ? 'block' : 'none';\n",
              "\n",
              "      buttonEl.onclick = () => {\n",
              "        google.colab.notebook.generateWithVariable('Data');\n",
              "      }\n",
              "      })();\n",
              "    </script>\n",
              "  </div>\n",
              "\n",
              "    </div>\n",
              "  </div>\n"
            ],
            "application/vnd.google.colaboratory.intrinsic+json": {
              "type": "dataframe",
              "variable_name": "Data",
              "summary": "{\n  \"name\": \"Data\",\n  \"rows\": 1272,\n  \"fields\": [\n    {\n      \"column\": \"ID\",\n      \"properties\": {\n        \"dtype\": \"category\",\n        \"num_unique_values\": 160,\n        \"samples\": [\n          107,\n          110,\n          143\n        ],\n        \"semantic_type\": \"\",\n        \"description\": \"\"\n      }\n    },\n    {\n      \"column\": \"text\",\n      \"properties\": {\n        \"dtype\": \"string\",\n        \"num_unique_values\": 1269,\n        \"samples\": [\n          \"I hurt myself a lot today so we'll see if I recover in time for the Tour Down Under. \",\n          \"I was fishing on the rocks and I saw her come around the back of the lighthouse said local resident Dave Turner, who noted boats often sailed that direction as a short cut on the high tide.\",\n          \"I only went to the dentist, for a two-hour treatment, the day of tests.\"\n        ],\n        \"semantic_type\": \"\",\n        \"description\": \"\"\n      }\n    },\n    {\n      \"column\": \"polarity\",\n      \"properties\": {\n        \"dtype\": \"category\",\n        \"num_unique_values\": 3,\n        \"samples\": [\n          \"NEGATIVE\",\n          \"NEUTRAL\",\n          \"POSITIVE\"\n        ],\n        \"semantic_type\": \"\",\n        \"description\": \"\"\n      }\n    },\n    {\n      \"column\": \"Event\",\n      \"properties\": {\n        \"dtype\": \"category\",\n        \"num_unique_values\": 8,\n        \"samples\": [\n          \"COMMUNICATION_ISSUE\",\n          \"OUTDOOR_ACTIVITY\",\n          \"ATTENDING_EVENT\"\n        ],\n        \"semantic_type\": \"\",\n        \"description\": \"\"\n      }\n    }\n  ]\n}"
            }
          },
          "metadata": {},
          "execution_count": 141
        }
      ]
    },
    {
      "cell_type": "code",
      "source": [
        "import numpy as np\n",
        "from keras.preprocessing.text import Tokenizer\n",
        "from keras.preprocessing.sequence import pad_sequences\n",
        "from keras.models import Sequential\n",
        "from keras.layers import Embedding, Conv1D, MaxPooling1D, Dense, Flatten\n",
        "from sklearn.model_selection import train_test_split\n",
        "from sklearn.preprocessing import LabelEncoder\n",
        "from sklearn.metrics import accuracy_score\n",
        "\n",
        "# Sample dataset\n",
        "texts = Data['text'].values\n",
        "polarities = Data['polarity'].values\n",
        "events = Data['Event'].values\n",
        "\n",
        "# Preprocessing\n",
        "tokenizer = Tokenizer()\n",
        "tokenizer.fit_on_texts(texts)\n",
        "sequences = tokenizer.texts_to_sequences(texts)\n",
        "word_index = tokenizer.word_index\n",
        "data = pad_sequences(sequences, maxlen=100)\n",
        "\n",
        "# Encode labels\n",
        "encoder = LabelEncoder()\n",
        "encoded_labels = encoder.fit_transform(polarities)  # or events\n",
        "num_classes = np.max(encoded_labels) + 1\n",
        "\n",
        "\n",
        "# Train-test split\n",
        "X_train, X_test, y_train, y_test = train_test_split(data, encoded_labels, test_size=0.2)\n",
        "\n",
        "# Model CNN\n",
        "model = Sequential()\n",
        "model.add(Embedding(input_dim=len(word_index) + 1, output_dim=128, input_length=100))\n",
        "model.add(Conv1D(filters=128, kernel_size=5, activation='relu'))\n",
        "model.add(MaxPooling1D(pool_size=2))\n",
        "model.add(Flatten())\n",
        "model.add(Dense(10, activation='relu'))\n",
        "model.add(Dense(num_classes, activation='softmax'))\n",
        "\n",
        "model.compile(optimizer='adam', loss='sparse_categorical_crossentropy', metrics=['accuracy'])\n",
        "\n",
        "# Train\n",
        "model.fit(X_train, y_train, epochs=5, batch_size=32, validation_split=0.2)\n",
        "\n",
        "y_pred = model.predict(X_test)\n",
        "y_pred_classes = np.argmax(y_pred, axis=1)\n",
        "accuracy = accuracy_score(y_test, y_pred_classes)\n",
        "print(f\"Accuracy: {accuracy:.4f}\")"
      ],
      "metadata": {
        "colab": {
          "base_uri": "https://localhost:8080/"
        },
        "id": "EVEtDx3Parnk",
        "outputId": "f16e9cf3-779a-4986-f53b-39394c49857a"
      },
      "execution_count": 131,
      "outputs": [
        {
          "output_type": "stream",
          "name": "stdout",
          "text": [
            "Epoch 1/5\n",
            "26/26 [==============================] - 2s 59ms/step - loss: 1.0286 - accuracy: 0.4883 - val_loss: 0.9892 - val_accuracy: 0.5147\n",
            "Epoch 2/5\n",
            "26/26 [==============================] - 1s 47ms/step - loss: 0.9676 - accuracy: 0.5486 - val_loss: 0.9623 - val_accuracy: 0.5588\n",
            "Epoch 3/5\n",
            "26/26 [==============================] - 1s 50ms/step - loss: 0.8156 - accuracy: 0.6531 - val_loss: 0.9001 - val_accuracy: 0.6422\n",
            "Epoch 4/5\n",
            "26/26 [==============================] - 1s 47ms/step - loss: 0.5440 - accuracy: 0.7626 - val_loss: 0.8725 - val_accuracy: 0.6618\n",
            "Epoch 5/5\n",
            "26/26 [==============================] - 1s 47ms/step - loss: 0.3474 - accuracy: 0.8118 - val_loss: 0.8643 - val_accuracy: 0.6520\n",
            "8/8 [==============================] - 0s 19ms/step\n",
            "Accuracy: 0.6510\n"
          ]
        }
      ]
    },
    {
      "cell_type": "code",
      "source": [
        "\n",
        "import matplotlib.pyplot as plt\n",
        "\n",
        "# 1. Training & Validation Loss\n",
        "plt.figure(figsize=(10, 6))\n",
        "plt.plot(model.history.history['loss'], label='Training Loss')\n",
        "plt.plot(model.history.history['val_loss'], label='Validation Loss')\n",
        "plt.title('Training and Validation Loss')\n",
        "plt.xlabel('Epoch')\n",
        "plt.ylabel('Loss')\n",
        "plt.legend()\n",
        "plt.show()\n",
        "\n",
        "# 2. Accuracy\n",
        "plt.figure(figsize=(10, 6))\n",
        "plt.plot(model.history.history['accuracy'], label='Training Accuracy')\n",
        "plt.plot(model.history.history['val_accuracy'], label='Validation Accuracy')\n",
        "plt.title('Training and Validation Accuracy')\n",
        "plt.xlabel('Epoch')\n",
        "plt.ylabel('Accuracy')\n",
        "plt.legend()\n",
        "plt.show()\n",
        "\n",
        "# 3. Confusion Matrix (requires additional library)\n",
        "from sklearn.metrics import confusion_matrix\n",
        "import seaborn as sns\n",
        "\n",
        "cm = confusion_matrix(y_test, y_pred_classes)\n",
        "plt.figure(figsize=(8, 6))\n",
        "sns.heatmap(cm, annot=True, fmt='d', cmap='Blues')\n",
        "plt.title('Confusion Matrix')\n",
        "plt.xlabel('Predicted Label')\n",
        "plt.ylabel('True Label')\n",
        "plt.show()\n"
      ],
      "metadata": {
        "id": "vGJc1gEvin5a"
      },
      "execution_count": null,
      "outputs": []
    },
    {
      "cell_type": "code",
      "source": [
        "polarities"
      ],
      "metadata": {
        "colab": {
          "base_uri": "https://localhost:8080/"
        },
        "id": "rfGLYPSNcgeJ",
        "outputId": "79b84173-adc9-4b93-b998-7a44977127d2"
      },
      "execution_count": 144,
      "outputs": [
        {
          "output_type": "execute_result",
          "data": {
            "text/plain": [
              "array(['NEGATIVE', 'NEUTRAL', 'NEGATIVE', ..., 'NEGATIVE', 'NEGATIVE',\n",
              "       'NEGATIVE'], dtype=object)"
            ]
          },
          "metadata": {},
          "execution_count": 144
        }
      ]
    },
    {
      "cell_type": "code",
      "source": [
        "from keras.layers import LSTM\n",
        "\n",
        "# Model\n",
        "model = Sequential()\n",
        "model.add(Embedding(input_dim=len(word_index) + 1, output_dim=128, input_length=100))\n",
        "model.add(LSTM(128))\n",
        "model.add(Dense(10, activation='relu'))\n",
        "model.add(Dense(num_classes, activation='softmax'))\n",
        "\n",
        "model.compile(optimizer='adam', loss='sparse_categorical_crossentropy', metrics=['accuracy'])\n",
        "\n",
        "# Train\n",
        "model.fit(X_train, y_train, epochs=5, batch_size=32, validation_split=0.2)\n",
        "\n",
        "# Predict and evaluate\n",
        "y_pred_probs = model.predict(X_test)  # Get predicted probabilities for each class\n",
        "y_pred = np.argmax(y_pred_probs, axis=1)  # Get class with highest probability\n",
        "accuracy = accuracy_score(y_test, y_pred)\n",
        "print(f\"Accuracy: {accuracy:.4f}\")"
      ],
      "metadata": {
        "colab": {
          "base_uri": "https://localhost:8080/"
        },
        "id": "S_Jb3kxwcGj6",
        "outputId": "63fb62ba-0249-4a93-d0bf-8126cd8a5b15"
      },
      "execution_count": 136,
      "outputs": [
        {
          "output_type": "stream",
          "name": "stdout",
          "text": [
            "Epoch 1/5\n",
            "26/26 [==============================] - 8s 247ms/step - loss: 1.0293 - accuracy: 0.4883 - val_loss: 0.9704 - val_accuracy: 0.5147\n",
            "Epoch 2/5\n",
            "26/26 [==============================] - 4s 162ms/step - loss: 0.9000 - accuracy: 0.5387 - val_loss: 0.8940 - val_accuracy: 0.5686\n",
            "Epoch 3/5\n",
            "26/26 [==============================] - 5s 175ms/step - loss: 0.7317 - accuracy: 0.6900 - val_loss: 0.9560 - val_accuracy: 0.5637\n",
            "Epoch 4/5\n",
            "26/26 [==============================] - 6s 217ms/step - loss: 0.5090 - accuracy: 0.8327 - val_loss: 0.9050 - val_accuracy: 0.5931\n",
            "Epoch 5/5\n",
            "26/26 [==============================] - 4s 162ms/step - loss: 0.2936 - accuracy: 0.9176 - val_loss: 1.2608 - val_accuracy: 0.6127\n",
            "8/8 [==============================] - 1s 48ms/step\n",
            "Accuracy: 0.6471\n"
          ]
        }
      ]
    },
    {
      "cell_type": "code",
      "source": [
        "from transformers import BertTokenizer, BertForSequenceClassification, Trainer, TrainingArguments\n",
        "from sklearn.preprocessing import LabelEncoder\n",
        "from sklearn.model_selection import train_test_split\n",
        "import torch\n",
        "import pandas as pd\n",
        "\n",
        "texts = Data['text'].values\n",
        "polarity = Data['polarity'].values\n",
        "event = Data['Event'].values\n",
        "\n",
        "# Load the BERT tokenizer\n",
        "tokenizer = BertTokenizer.from_pretrained('bert-base-uncased')\n",
        "\n",
        "# Tokenize the data\n",
        "inputs = tokenizer(texts.tolist(), return_tensors=\"pt\", padding=True, truncation=True, max_length=100)\n",
        "\n",
        "# Encode the labels\n",
        "le_polarity = LabelEncoder()\n",
        "le_event = LabelEncoder()\n",
        "polarity_encoded = le_polarity.fit_transform(polarity)\n",
        "event_encoded = le_event.fit_transform(event)\n",
        "\n",
        "# Split the data into training and testing sets\n",
        "X_train, X_test, y_train_polarity, y_test_polarity = train_test_split(inputs['input_ids'], polarity_encoded, test_size=0.2, random_state=42)\n",
        "_, _, y_train_event, y_test_event = train_test_split(inputs['input_ids'], event_encoded, test_size=0.2, random_state=42)\n",
        "\n"
      ],
      "metadata": {
        "id": "Z8PAGne2dQxD"
      },
      "execution_count": 146,
      "outputs": []
    },
    {
      "cell_type": "code",
      "source": [
        "polarity_encoded.unique()"
      ],
      "metadata": {
        "id": "sp71A4KVg_HG"
      },
      "execution_count": null,
      "outputs": []
    },
    {
      "cell_type": "code",
      "source": [
        "# Create attention masks\n",
        "attention_masks_train = inputs['attention_mask'][:len(X_train)]\n",
        "attention_masks_test = inputs['attention_mask'][len(X_train):]\n",
        "\n",
        "class CustomDataset(torch.utils.data.Dataset):\n",
        "    def __init__(self, encodings, labels):\n",
        "        self.encodings = encodings\n",
        "        self.labels = labels\n",
        "\n",
        "    def __getitem__(self, idx):\n",
        "        item = {key: val[idx] for key, val in self.encodings.items()}\n",
        "        item['labels'] = torch.tensor(self.labels[idx])\n",
        "        return item\n",
        "\n",
        "    def __len__(self):\n",
        "        return len(self.labels)\n",
        "\n",
        "train_encodings = {'input_ids': X_train, 'attention_mask': attention_masks_train}\n",
        "test_encodings = {'input_ids': X_test, 'attention_mask': attention_masks_test}\n",
        "\n",
        "dataset_polarity_train = CustomDataset(train_encodings, y_train_polarity)\n",
        "dataset_polarity_test = CustomDataset(test_encodings, y_test_polarity)\n",
        "\n",
        "dataset_event_train = CustomDataset(train_encodings, y_train_event)\n",
        "dataset_event_test = CustomDataset(test_encodings, y_test_event)\n",
        "\n"
      ],
      "metadata": {
        "id": "MWvY_klReH4w"
      },
      "execution_count": 147,
      "outputs": []
    },
    {
      "cell_type": "code",
      "source": [
        "# Define the BERT model for polarity prediction\n",
        "model_polarity = BertForSequenceClassification.from_pretrained('bert-base-uncased', num_labels=len(le_polarity.classes_))\n",
        "\n",
        "# Define training arguments\n",
        "training_args_polarity = TrainingArguments(\n",
        "    output_dir='./results_polarity',  # Directory to save model checkpoints and results\n",
        "    num_train_epochs=3,               # Number of training epochs\n",
        "    per_device_train_batch_size=8,    # Batch size for training\n",
        "    per_device_eval_batch_size=8,     # Batch size for evaluation\n",
        "    warmup_steps=500,                 # Number of warmup steps for learning rate scheduler\n",
        "    weight_decay=0.01,                # Weight decay for optimizer\n",
        "    logging_dir='./logs_polarity',    # Directory for storing logs\n",
        "    logging_steps=10,                 # Log every 10 steps\n",
        "    eval_strategy=\"epoch\"             # Evaluation strategy (use eval_strategy instead of evaluation_strategy)\n",
        ")\n",
        "\n",
        "# Create the Trainer instance\n",
        "trainer_polarity = Trainer(\n",
        "    model=model_polarity,                 # The instantiated  Transformers model to be trained\n",
        "    args=training_args_polarity,          # Training arguments, defined above\n",
        "    train_dataset=dataset_polarity_train, # Training dataset\n",
        "    eval_dataset=dataset_polarity_test    # Evaluation dataset\n",
        ")\n",
        "\n",
        "# Train the model\n",
        "trainer_polarity.train()\n"
      ],
      "metadata": {
        "colab": {
          "base_uri": "https://localhost:8080/",
          "height": 329
        },
        "id": "zNCEB1D9eMWs",
        "outputId": "3ace8c73-1441-4c43-db4d-d0c9c9b7ffb8"
      },
      "execution_count": 149,
      "outputs": [
        {
          "metadata": {
            "tags": null
          },
          "name": "stderr",
          "output_type": "stream",
          "text": [
            "Some weights of BertForSequenceClassification were not initialized from the model checkpoint at bert-base-uncased and are newly initialized: ['classifier.bias', 'classifier.weight']\n",
            "You should probably TRAIN this model on a down-stream task to be able to use it for predictions and inference.\n"
          ]
        },
        {
          "data": {
            "text/html": [
              "\n",
              "    <div>\n",
              "      \n",
              "      <progress value='207' max='384' style='width:300px; height:20px; vertical-align: middle;'></progress>\n",
              "      [207/384 29:34 < 25:31, 0.12 it/s, Epoch 1.61/3]\n",
              "    </div>\n",
              "    <table border=\"1\" class=\"dataframe\">\n",
              "  <thead>\n",
              " <tr style=\"text-align: left;\">\n",
              "      <th>Epoch</th>\n",
              "      <th>Training Loss</th>\n",
              "      <th>Validation Loss</th>\n",
              "    </tr>\n",
              "  </thead>\n",
              "  <tbody>\n",
              "    <tr>\n",
              "      <td>1</td>\n",
              "      <td>1.019200</td>\n",
              "      <td>0.917731</td>\n",
              "    </tr>\n",
              "  </tbody>\n",
              "</table><p>"
            ],
            "text/plain": [
              "<IPython.core.display.HTML object>"
            ]
          },
          "metadata": {},
          "output_type": "display_data"
        },
        {
          "output_type": "display_data",
          "data": {
            "text/plain": [
              "<IPython.core.display.HTML object>"
            ],
            "text/html": [
              "\n",
              "    <div>\n",
              "      \n",
              "      <progress value='384' max='384' style='width:300px; height:20px; vertical-align: middle;'></progress>\n",
              "      [384/384 56:49, Epoch 3/3]\n",
              "    </div>\n",
              "    <table border=\"1\" class=\"dataframe\">\n",
              "  <thead>\n",
              " <tr style=\"text-align: left;\">\n",
              "      <th>Epoch</th>\n",
              "      <th>Training Loss</th>\n",
              "      <th>Validation Loss</th>\n",
              "    </tr>\n",
              "  </thead>\n",
              "  <tbody>\n",
              "    <tr>\n",
              "      <td>1</td>\n",
              "      <td>1.019200</td>\n",
              "      <td>0.917731</td>\n",
              "    </tr>\n",
              "    <tr>\n",
              "      <td>2</td>\n",
              "      <td>0.557400</td>\n",
              "      <td>0.578549</td>\n",
              "    </tr>\n",
              "    <tr>\n",
              "      <td>3</td>\n",
              "      <td>0.477400</td>\n",
              "      <td>0.656507</td>\n",
              "    </tr>\n",
              "  </tbody>\n",
              "</table><p>"
            ]
          },
          "metadata": {}
        },
        {
          "output_type": "execute_result",
          "data": {
            "text/plain": [
              "TrainOutput(global_step=384, training_loss=0.7869691656281551, metrics={'train_runtime': 3419.7339, 'train_samples_per_second': 0.892, 'train_steps_per_second': 0.112, 'total_flos': 156788874509400.0, 'train_loss': 0.7869691656281551, 'epoch': 3.0})"
            ]
          },
          "metadata": {},
          "execution_count": 149
        }
      ]
    },
    {
      "cell_type": "code",
      "source": [
        "# Define the BERT model for event prediction\n",
        "model_event = BertForSequenceClassification.from_pretrained('bert-base-uncased', num_labels=len(le_event.classes_))\n",
        "\n",
        "training_args_event = TrainingArguments(\n",
        "    output_dir='./results_event',\n",
        "    num_train_epochs=3,\n",
        "    per_device_train_batch_size=8,\n",
        "    per_device_eval_batch_size=8,\n",
        "    warmup_steps=500,\n",
        "    weight_decay=0.01,\n",
        "    logging_dir='./logs_event',\n",
        "    logging_steps=10,\n",
        "    evaluation_strategy=\"epoch\"\n",
        ")\n",
        "\n",
        "trainer_event = Trainer(\n",
        "    model=model_event,\n",
        "    args=training_args_event,\n",
        "    train_dataset=dataset_event_train,\n",
        "    eval_dataset=dataset_event_test\n",
        ")\n",
        "\n",
        "trainer_event.train()"
      ],
      "metadata": {
        "colab": {
          "base_uri": "https://localhost:8080/",
          "height": 383
        },
        "id": "T0y1efoYeSBx",
        "outputId": "74d00cfb-1e2c-4981-d8f0-a3a9e3fffd72"
      },
      "execution_count": 150,
      "outputs": [
        {
          "metadata": {
            "tags": null
          },
          "name": "stderr",
          "output_type": "stream",
          "text": [
            "Some weights of BertForSequenceClassification were not initialized from the model checkpoint at bert-base-uncased and are newly initialized: ['classifier.bias', 'classifier.weight']\n",
            "You should probably TRAIN this model on a down-stream task to be able to use it for predictions and inference.\n",
            "/usr/local/lib/python3.10/dist-packages/transformers/training_args.py:1494: FutureWarning: `evaluation_strategy` is deprecated and will be removed in version 4.46 of 🤗 Transformers. Use `eval_strategy` instead\n",
            "  warnings.warn(\n"
          ]
        },
        {
          "data": {
            "text/html": [
              "\n",
              "    <div>\n",
              "      \n",
              "      <progress value='134' max='384' style='width:300px; height:20px; vertical-align: middle;'></progress>\n",
              "      [134/384 19:38 < 37:11, 0.11 it/s, Epoch 1.04/3]\n",
              "    </div>\n",
              "    <table border=\"1\" class=\"dataframe\">\n",
              "  <thead>\n",
              " <tr style=\"text-align: left;\">\n",
              "      <th>Epoch</th>\n",
              "      <th>Training Loss</th>\n",
              "      <th>Validation Loss</th>\n",
              "    </tr>\n",
              "  </thead>\n",
              "  <tbody>\n",
              "    <tr>\n",
              "      <td>1</td>\n",
              "      <td>2.139400</td>\n",
              "      <td>2.098008</td>\n",
              "    </tr>\n",
              "  </tbody>\n",
              "</table><p>"
            ],
            "text/plain": [
              "<IPython.core.display.HTML object>"
            ]
          },
          "metadata": {},
          "output_type": "display_data"
        },
        {
          "output_type": "display_data",
          "data": {
            "text/plain": [
              "<IPython.core.display.HTML object>"
            ],
            "text/html": [
              "\n",
              "    <div>\n",
              "      \n",
              "      <progress value='384' max='384' style='width:300px; height:20px; vertical-align: middle;'></progress>\n",
              "      [384/384 56:48, Epoch 3/3]\n",
              "    </div>\n",
              "    <table border=\"1\" class=\"dataframe\">\n",
              "  <thead>\n",
              " <tr style=\"text-align: left;\">\n",
              "      <th>Epoch</th>\n",
              "      <th>Training Loss</th>\n",
              "      <th>Validation Loss</th>\n",
              "    </tr>\n",
              "  </thead>\n",
              "  <tbody>\n",
              "    <tr>\n",
              "      <td>1</td>\n",
              "      <td>2.139400</td>\n",
              "      <td>2.098008</td>\n",
              "    </tr>\n",
              "    <tr>\n",
              "      <td>2</td>\n",
              "      <td>1.257700</td>\n",
              "      <td>1.189211</td>\n",
              "    </tr>\n",
              "    <tr>\n",
              "      <td>3</td>\n",
              "      <td>0.549800</td>\n",
              "      <td>0.639076</td>\n",
              "    </tr>\n",
              "  </tbody>\n",
              "</table><p>"
            ]
          },
          "metadata": {}
        },
        {
          "output_type": "execute_result",
          "data": {
            "text/plain": [
              "TrainOutput(global_step=384, training_loss=1.5332234054803848, metrics={'train_runtime': 3419.0148, 'train_samples_per_second': 0.892, 'train_steps_per_second': 0.112, 'total_flos': 156797320897800.0, 'train_loss': 1.5332234054803848, 'epoch': 3.0})"
            ]
          },
          "metadata": {},
          "execution_count": 150
        }
      ]
    },
    {
      "cell_type": "code",
      "source": [
        "import numpy as np\n",
        "from sklearn.metrics import accuracy_score\n",
        "\n",
        "# Evaluate polarity prediction\n",
        "predictions_polarity = trainer_polarity.predict(dataset_polarity_test)\n",
        "predicted_labels_polarity = np.argmax(predictions_polarity.predictions, axis=1)\n",
        "accuracy_polarity = accuracy_score(y_test_polarity, predicted_labels_polarity)\n",
        "print(f\"Polarity Accuracy: {accuracy_polarity:.4f}\")\n",
        "\n",
        "# Evaluate event prediction\n",
        "predictions_event = trainer_event.predict(dataset_event_test)\n",
        "predicted_labels_event = np.argmax(predictions_event.predictions, axis=1)\n",
        "accuracy_event = accuracy_score(y_test_event, predicted_labels_event)\n",
        "print(f\"Event Accuracy: {accuracy_event:.4f}\")\n"
      ],
      "metadata": {
        "colab": {
          "base_uri": "https://localhost:8080/",
          "height": 52
        },
        "id": "P1RNipEceggh",
        "outputId": "06430d5f-6d08-457c-d19b-9522d9b00b31"
      },
      "execution_count": 151,
      "outputs": [
        {
          "output_type": "display_data",
          "data": {
            "text/plain": [
              "<IPython.core.display.HTML object>"
            ],
            "text/html": []
          },
          "metadata": {}
        },
        {
          "output_type": "stream",
          "name": "stdout",
          "text": [
            "Polarity Accuracy: 0.7647\n"
          ]
        },
        {
          "output_type": "display_data",
          "data": {
            "text/plain": [
              "<IPython.core.display.HTML object>"
            ],
            "text/html": []
          },
          "metadata": {}
        },
        {
          "output_type": "stream",
          "name": "stdout",
          "text": [
            "Event Accuracy: 0.8275\n"
          ]
        }
      ]
    },
    {
      "cell_type": "code",
      "source": [
        "# Sample input text for prediction\n",
        "sample_text = input()\n",
        "\n",
        "# Tokenize the sample text\n",
        "inputs = tokenizer(sample_text, return_tensors=\"pt\", padding=True, truncation=True, max_length=100)\n",
        "\n",
        "# Move models to the device\n",
        "device = torch.device(\"cuda\" if torch.cuda.is_available() else \"cpu\")\n",
        "model_polarity.to(device)\n",
        "model_event.to(device)\n",
        "\n",
        "# Set the models to evaluation mode\n",
        "model_polarity.eval()\n",
        "model_event.eval()\n",
        "\n",
        "# Ensure the inputs are moved to the appropriate device\n",
        "inputs = {key: val.to(device) for key, val in inputs.items()}\n",
        "\n",
        "# Get predictions for polarity\n",
        "with torch.no_grad():\n",
        "    outputs_polarity = model_polarity(**inputs)\n",
        "    predicted_label_polarity = torch.argmax(outputs_polarity.logits, dim=1).cpu().numpy()\n",
        "\n",
        "# Get predictions for event\n",
        "with torch.no_grad():\n",
        "    outputs_event = model_event(**inputs)\n",
        "    predicted_label_event = torch.argmax(outputs_event.logits, dim=1).cpu().numpy()\n",
        "\n",
        "# Decode the predicted labels\n",
        "predicted_polarity = le_polarity.inverse_transform(predicted_label_polarity)[0]\n",
        "predicted_event = le_event.inverse_transform(predicted_label_event)[0]\n",
        "\n",
        "# Print the results\n",
        "print(f\"Input Text: {sample_text}\")\n",
        "print(f\"Predicted Polarity: {predicted_polarity}\")\n",
        "print(f\"Predicted Event: {predicted_event}\")"
      ],
      "metadata": {
        "colab": {
          "base_uri": "https://localhost:8080/"
        },
        "id": "dZk3tZE3cUmC",
        "outputId": "ebe4e5c6-59db-4dee-87e8-9e9a25e18674"
      },
      "execution_count": 154,
      "outputs": [
        {
          "output_type": "stream",
          "name": "stdout",
          "text": [
            "If a guy owes me money and I want my money, that doesn't make me an extortionist\" said Provenzano, sitting in the home office of his spacious Bergen County home, a copy of Elia Kazan's On What Makes A Director by his side.\n",
            "Input Text: If a guy owes me money and I want my money, that doesn't make me an extortionist\" said Provenzano, sitting in the home office of his spacious Bergen County home, a copy of Elia Kazan's On What Makes A Director by his side.\n",
            "Predicted Polarity: NEUTRAL\n",
            "Predicted Event: MONEY_ISSUE\n"
          ]
        }
      ]
    },
    {
      "cell_type": "code",
      "source": [],
      "metadata": {
        "id": "2JfnTOo_9AHd"
      },
      "execution_count": null,
      "outputs": []
    }
  ]
}